{
  "nbformat": 4,
  "nbformat_minor": 0,
  "metadata": {
    "colab": {
      "provenance": [],
      "include_colab_link": true
    },
    "kernelspec": {
      "name": "python3",
      "display_name": "Python 3"
    },
    "language_info": {
      "name": "python"
    },
    "accelerator": "GPU",
    "gpuClass": "standard"
  },
  "cells": [
    {
      "cell_type": "markdown",
      "metadata": {
        "id": "view-in-github",
        "colab_type": "text"
      },
      "source": [
        "<a href=\"https://colab.research.google.com/github/DMTX2410/TL-P1/blob/main/Modelo_para_predecir_la_lluvia.ipynb\" target=\"_parent\"><img src=\"https://colab.research.google.com/assets/colab-badge.svg\" alt=\"Open In Colab\"/></a>"
      ]
    },
    {
      "cell_type": "code",
      "source": [
        "#Importamos las librerias\n",
        "import numpy as np \n",
        "import pandas as pd\n",
        "from sklearn.model_selection import train_test_split\n",
        "from sklearn.metrics import classification_report\n",
        "from sklearn import metrics\n",
        "import matplotlib.pyplot as plt\n",
        "import keras\n",
        "from keras.layers import Dense\n",
        "from keras.models import Sequential\n",
        "from keras.layers import Dropout"
      ],
      "metadata": {
        "id": "q_l9DdZFoyUA"
      },
      "execution_count": null,
      "outputs": []
    },
    {
      "cell_type": "code",
      "source": [
        "#Se carga el archivo que contiene los datos\n",
        "filepath = \"https://raw.githubusercontent.com/DMTX2410/TL-P1/main/seattleWeather_1948-2017.csv\" #Se guarda la ruta en la variable filepath\n",
        "df = pd.read_csv(filepath) #Se asignan los datos de la ruta a la variable df"
      ],
      "metadata": {
        "id": "_0hTLUpspSRd"
      },
      "execution_count": null,
      "outputs": []
    },
    {
      "cell_type": "code",
      "source": [
        "#Se convierte la columna de lluvia a valores enteros y se guardan en una nueva columna \"rain\"\n",
        "df['rain']=[1 if i==True else 0 for i in df['RAIN']] #Definimos como 1 si el valor es verdadero y como 0 si el valor es falso."
      ],
      "metadata": {
        "id": "z-PUiJ3w1aiJ"
      },
      "execution_count": null,
      "outputs": []
    },
    {
      "cell_type": "code",
      "source": [
        "#Se eliminan los valores nulos\n",
        "df.dropna(inplace=True) # El metodo dropna permite filtrar los valores de una estructura de datos pandas para dejar solo aquellos no nulos."
      ],
      "metadata": {
        "id": "BrHDFDwxsqlu"
      },
      "execution_count": null,
      "outputs": []
    },
    {
      "cell_type": "code",
      "source": [
        "#Definimos X y Y\n",
        "x = df[['PRCP', 'TMAX', 'TMIN']] #Aqui definimos que solo estas 3 columnas se guardaran en x\n",
        "y = df['rain'] #rain al ser el valor con el cual se valida, se guarda en Y"
      ],
      "metadata": {
        "id": "HOQN84QJyFm-"
      },
      "execution_count": null,
      "outputs": []
    },
    {
      "cell_type": "code",
      "source": [
        "#Se definen las variables de entrenamiento\n",
        "x_train, x_test, y_train, y_test = train_test_split(x, y, test_size=0.20, random_state=42)#Se deja un tamaño de entrenamiento del 80%"
      ],
      "metadata": {
        "id": "cDsSAeG6xEgc"
      },
      "execution_count": null,
      "outputs": []
    },
    {
      "cell_type": "code",
      "source": [
        "#Usamos el modelo secuencial de Keras\n",
        "def build_model(): #Se define como función\n",
        "  model = keras.Sequential()\n",
        "  #Se usa una función de activacion de tipo relu, debido a la eficacia de esta en este tipo de casos\n",
        "  model.add(keras.layers.Dense(64, activation='relu', input_dim=x.shape[1]))#La capa de entrada tendra un total de 64 neuronas\n",
        "  model.add(keras.layers.Dense(32, activation='relu'))#La capa oculta tendra un total de 32 neuronas\n",
        "  model.add(keras.layers.Dense(1, activation='sigmoid'))#La capa de salida tendra solo una, la función de activación sera de tipo sigmoide debido al tipo de capa.\n",
        "  model.compile(optimizer= \"adam\", loss='binary_crossentropy', metrics=['accuracy'])\n",
        "  #Se especifica la forma como se calcularán los parámetros de la línea recta (w y b). \n",
        "  #Para ello se utiliza adam como modelo de optimizacion y crossentropy para determinar los pesos mediante backpropagation\n",
        "  return model"
      ],
      "metadata": {
        "id": "YQPXySO8xmqC"
      },
      "execution_count": null,
      "outputs": []
    },
    {
      "cell_type": "code",
      "source": [
        "#Detalles del modelo\n",
        "model = build_model()#Instanciamos el modelo\n",
        "model.summary()#Nos permite ver los parametros del modelo"
      ],
      "metadata": {
        "colab": {
          "base_uri": "https://localhost:8080/"
        },
        "id": "uuGyAIw6FHVt",
        "outputId": "b56c8aa7-d2df-49fd-f7d7-6851a7354a31"
      },
      "execution_count": null,
      "outputs": [
        {
          "output_type": "stream",
          "name": "stdout",
          "text": [
            "Model: \"sequential_11\"\n",
            "_________________________________________________________________\n",
            " Layer (type)                Output Shape              Param #   \n",
            "=================================================================\n",
            " dense_33 (Dense)            (None, 64)                256       \n",
            "                                                                 \n",
            " dense_34 (Dense)            (None, 32)                2080      \n",
            "                                                                 \n",
            " dense_35 (Dense)            (None, 1)                 33        \n",
            "                                                                 \n",
            "=================================================================\n",
            "Total params: 2,369\n",
            "Trainable params: 2,369\n",
            "Non-trainable params: 0\n",
            "_________________________________________________________________\n"
          ]
        }
      ]
    },
    {
      "cell_type": "code",
      "source": [
        "#Entrenamos la red neuronal\n",
        "history = model.fit(x_train, y_train, batch_size=10, epochs=10,validation_split =0.2,verbose=2)\n",
        "#Le asignamos un batch de 10 y epocas de 10, esto con el fin de obtener una precision alta a menor cantidad de epocas.\n",
        "#Para la validacion utilizaremos el 20% de las pruebas. "
      ],
      "metadata": {
        "colab": {
          "base_uri": "https://localhost:8080/"
        },
        "id": "O7t9jpWM0A0d",
        "outputId": "d57c815a-f5ff-4004-9857-6e947dbef856"
      },
      "execution_count": null,
      "outputs": [
        {
          "output_type": "stream",
          "name": "stdout",
          "text": [
            "Epoch 1/10\n",
            "1635/1635 - 4s - loss: 0.5025 - accuracy: 0.7563 - val_loss: 0.3944 - val_accuracy: 0.8165 - 4s/epoch - 3ms/step\n",
            "Epoch 2/10\n",
            "1635/1635 - 4s - loss: 0.3763 - accuracy: 0.8220 - val_loss: 0.3539 - val_accuracy: 0.8312 - 4s/epoch - 3ms/step\n",
            "Epoch 3/10\n",
            "1635/1635 - 4s - loss: 0.3080 - accuracy: 0.8634 - val_loss: 0.2417 - val_accuracy: 0.9031 - 4s/epoch - 2ms/step\n",
            "Epoch 4/10\n",
            "1635/1635 - 5s - loss: 0.2467 - accuracy: 0.8976 - val_loss: 0.1922 - val_accuracy: 0.9300 - 5s/epoch - 3ms/step\n",
            "Epoch 5/10\n",
            "1635/1635 - 4s - loss: 0.2104 - accuracy: 0.9204 - val_loss: 0.1655 - val_accuracy: 0.9369 - 4s/epoch - 3ms/step\n",
            "Epoch 6/10\n",
            "1635/1635 - 4s - loss: 0.1767 - accuracy: 0.9354 - val_loss: 0.1297 - val_accuracy: 0.9477 - 4s/epoch - 2ms/step\n",
            "Epoch 7/10\n",
            "1635/1635 - 5s - loss: 0.1397 - accuracy: 0.9509 - val_loss: 0.1070 - val_accuracy: 0.9535 - 5s/epoch - 3ms/step\n",
            "Epoch 8/10\n",
            "1635/1635 - 4s - loss: 0.1243 - accuracy: 0.9583 - val_loss: 0.1770 - val_accuracy: 0.9469 - 4s/epoch - 3ms/step\n",
            "Epoch 9/10\n",
            "1635/1635 - 4s - loss: 0.1030 - accuracy: 0.9665 - val_loss: 0.0734 - val_accuracy: 0.9951 - 4s/epoch - 3ms/step\n",
            "Epoch 10/10\n",
            "1635/1635 - 4s - loss: 0.0914 - accuracy: 0.9726 - val_loss: 0.0452 - val_accuracy: 0.9873 - 4s/epoch - 3ms/step\n"
          ]
        }
      ]
    },
    {
      "cell_type": "code",
      "source": [
        "#Grafica de perdidas vs iteraciones\n",
        "hist = pd.DataFrame(history.history)#Extraemos los datos del entrenamiento y validación\n",
        "hist['epoch'] = history.epoch #Asignamos el valor de las epocas\n",
        "plt.figure() #Creamos la figura\n",
        "plt.xlabel('Epoch')#Se asigna el nombre del ehe x\n",
        "plt.ylabel('Loss')#Se asigna el nombre del ehe y\n",
        "plt.title('Perdidas vs Iteraciones')#Se asigna el nombre del titulo de la grafica\n",
        "plt.plot(hist['epoch'], hist['loss'], label = 'Train Error')#Graficamos los valores de entrenamiento\n",
        "plt.plot(hist['epoch'], hist['val_loss'], label = 'Test Error')#Graficamos los valores de validacion\n",
        "plt.ylim(0,0.5)#Definimos los limites de y\n",
        "plt.legend()#Ploteamos los nombres de las graficas\n"
      ],
      "metadata": {
        "colab": {
          "base_uri": "https://localhost:8080/",
          "height": 312
        },
        "id": "zF2dDgYbFjth",
        "outputId": "2e7e926c-cd69-4e21-8c10-9ffe698eaef0"
      },
      "execution_count": null,
      "outputs": [
        {
          "output_type": "execute_result",
          "data": {
            "text/plain": [
              "<matplotlib.legend.Legend at 0x7f277c2827d0>"
            ]
          },
          "metadata": {},
          "execution_count": 71
        },
        {
          "output_type": "display_data",
          "data": {
            "text/plain": [
              "<Figure size 432x288 with 1 Axes>"
            ],
            "image/png": "[encoded data removed]"
          },
          "metadata": {
            "needs_background": "light"
          }
        }
      ]
    },
    {
      "cell_type": "code",
      "source": [
        "prediction_nn = model.predict(x_test) #Usamos la funcion de predict sobre la variable de test\n",
        "prediction_nn = [1 if y>=0.5 else 0 for y in prediction_nn]#Definimos los parametros\n",
        "print(classification_report(y_test, prediction_nn))#Imprimos los datos"
      ],
      "metadata": {
        "colab": {
          "base_uri": "https://localhost:8080/"
        },
        "id": "uJvsBSX1MwxV",
        "outputId": "3110c410-b935-4d7a-d3a2-4fc03d133126"
      },
      "execution_count": null,
      "outputs": [
        {
          "output_type": "stream",
          "name": "stdout",
          "text": [
            "              precision    recall  f1-score   support\n",
            "\n",
            "           0       0.93      1.00      0.96      2953\n",
            "           1       1.00      0.89      0.94      2157\n",
            "\n",
            "    accuracy                           0.95      5110\n",
            "   macro avg       0.96      0.95      0.95      5110\n",
            "weighted avg       0.96      0.95      0.95      5110\n",
            "\n"
          ]
        }
      ]
    }
  ]
}