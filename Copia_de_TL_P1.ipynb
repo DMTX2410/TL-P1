{
  "nbformat": 4,
  "nbformat_minor": 0,
  "metadata": {
    "colab": {
      "provenance": [],
      "collapsed_sections": [],
      "include_colab_link": true
    },
    "kernelspec": {
      "name": "python3",
      "display_name": "Python 3"
    },
    "language_info": {
      "name": "python"
    }
  },
  "cells": [
    {
      "cell_type": "markdown",
      "metadata": {
        "id": "view-in-github",
        "colab_type": "text"
      },
      "source": [
        "<a href=\"https://colab.research.google.com/github/DMTX2410/TL-P1/blob/Francisco_Julian_Espino_Rojas/Copia_de_TL_P1.ipynb\" target=\"_parent\"><img src=\"https://colab.research.google.com/assets/colab-badge.svg\" alt=\"Open In Colab\"/></a>"
      ]
    },
    {
      "cell_type": "markdown",
      "source": [
        "# **Práctica #1: Modelo para predicción de lluvia**\n",
        "\n",
        "*Centro Universitario de Ciencias Exactas e Ingenierías*\n",
        "\n",
        "*División de Tecnologías para la Integración Ciber-Humana*\n",
        "\n",
        "*Ingeniería Biomédica*\n",
        "\n",
        "<br>\n",
        "\n",
        "*Mtra. Sofía Alejandra Aguilar Valdez*\n",
        "\n",
        "2 de septiembre de 2022"
      ],
      "metadata": {
        "id": "nVx-kou4pjFk"
      }
    },
    {
      "cell_type": "markdown",
      "source": [
        "## **Información del equipo**\n",
        "\n",
        "**```NOMBRES:```**\n",
        "\n",
        "*   Espino Rojas Francisco Julian\n",
        "*   Manrique Torres Jafet Daniel\n",
        "*   Sanchez Rodríguez Christopher William \n",
        "\n",
        "\n",
        "**```CÓDIGOS:```**\n",
        "\n",
        "*   221349453 \n",
        "*   \n",
        "*   \n",
        "\n",
        "\n",
        "\n",
        "\n",
        "\n",
        "\n",
        "\n",
        "```LINK REPOSITORIO:```\n",
        "\n"
      ],
      "metadata": {
        "id": "dQNzG9Wm4ZQJ"
      }
    },
    {
      "cell_type": "markdown",
      "source": [
        "## **Contenido**\n",
        "\n",
        "\n",
        "\n",
        "1.   Resumen\n",
        "2.   Marco teórico\n",
        "3.   Objetivos\n",
        "4.   Materiales y métodos\n",
        "5.   Resultados\n",
        "6.   Discusión\n",
        "7.   Conclusiones\n",
        "8.   Referencias\n",
        "\n"
      ],
      "metadata": {
        "id": "QQ_tQMMJpude"
      }
    },
    {
      "cell_type": "markdown",
      "source": [
        "# **1. Resumen**\n",
        "(100-300 palabras)"
      ],
      "metadata": {
        "id": "anvzyOk06GH5"
      }
    },
    {
      "cell_type": "markdown",
      "source": [
        "# **2. Marco teórico**\n",
        "\n",
        "**Red Neuronal Multicapa (Perceptrón Multicapa):**\n",
        "\n",
        "Históricamente estas redes eran primeramente perceptrones, pero ahora, estas redes están constituidas por redes sigmoides o por otro tipo de neuronas con otro tipo de función de activación (por ejemplo, ReLu).\n",
        "\n",
        "Estas redes están conformadas por una capa de neuronas de entrada que representan los valores de entrada; en seguida, una o varias capas ocultas que están conectadas todas con cada una de las neuronas de la capa anterior; y por último, una capa de salida de una o varias neuronas.\n",
        "\n",
        "**Overfitting**\n",
        "\n",
        "Es un fenómeno en el que un algoritmo predictivo presenta baja tasa de acierto en sus resultados. Existen 3 posibles causas:\n",
        "\n",
        "1.   Los datos no representan acertadamente la realidad de lo que deberá predecir.\n",
        "2.   Variables irrelevantes.\n",
        "3.   Se han sobrepasado el número de épocas.\n",
        "\n",
        "**Underfitting**\n",
        "\n",
        "Se da cuando el modelo de aprendizaje presenta resultados deficientes \n"
      ],
      "metadata": {
        "id": "E8r4C9H26UTK"
      }
    },
    {
      "cell_type": "markdown",
      "source": [
        "# **3. Objetivos**\n",
        "Objetivo general y objetivos específicos"
      ],
      "metadata": {
        "id": "Tcx3QvQN6hWe"
      }
    },
    {
      "cell_type": "markdown",
      "source": [
        "# **4. Materiales y métodos**\n",
        "\n",
        "## *Materiales*\n",
        "\n",
        "Describir este conjunto de datos [[1]](https://www.kaggle.com/code/fatmakursun/rain-forecasting-with-artificial-neural-network/data).\n",
        "\n",
        "## *Métodos*\n",
        "\n",
        "1. Esquema de metodología\n",
        "2. Descripción de los métodos y su implementación en código en forma de narrativa."
      ],
      "metadata": {
        "id": "4rX1w4ZD6mPj"
      }
    },
    {
      "cell_type": "markdown",
      "source": [
        "# **5. Resultados**\n",
        "(300-800 palabras, incluir mínimo 2 figuras)."
      ],
      "metadata": {
        "id": "6s3y9-yUSCL9"
      }
    },
    {
      "cell_type": "markdown",
      "source": [
        "# **6. Discusión**\n",
        "Underfitting, overfitting, o no y el porqué\n",
        "Comparación de su metodología con literatura asociada"
      ],
      "metadata": {
        "id": "AEt8aII8SPu6"
      }
    },
    {
      "cell_type": "markdown",
      "source": [
        "# **7. Conclusiones**\n",
        "(100-300 palabras)."
      ],
      "metadata": {
        "id": "8Gb2ac0VSryX"
      }
    },
    {
      "cell_type": "markdown",
      "source": [
        "# **8. Referencias**\n",
        "\n",
        "[1] Pb, V. (2020, February 18). Perceptron. Kaggle. Retrieved June 1, 2022, from https://www.kaggle.com/code/prashfio/perceptron/notebook"
      ],
      "metadata": {
        "id": "cxRqAiW5sG_m"
      }
    }
  ]
}