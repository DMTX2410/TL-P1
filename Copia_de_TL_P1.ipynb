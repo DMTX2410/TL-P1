{
  "nbformat": 4,
  "nbformat_minor": 0,
  "metadata": {
    "colab": {
      "provenance": [],
      "collapsed_sections": [],
      "include_colab_link": true
    },
    "kernelspec": {
      "name": "python3",
      "display_name": "Python 3"
    },
    "language_info": {
      "name": "python"
    }
  },
  "cells": [
    {
      "cell_type": "markdown",
      "metadata": {
        "id": "view-in-github",
        "colab_type": "text"
      },
      "source": [
        "<a href=\"https://colab.research.google.com/github/DMTX2410/TL-P1/blob/Francisco_Julian_Espino_Rojas/Copia_de_TL_P1.ipynb\" target=\"_parent\"><img src=\"https://colab.research.google.com/assets/colab-badge.svg\" alt=\"Open In Colab\"/></a>"
      ]
    },
    {
      "cell_type": "markdown",
      "source": [
        "# **Práctica #1: Modelo para predicción de lluvia**\n",
        "\n",
        "*Centro Universitario de Ciencias Exactas e Ingenierías*\n",
        "\n",
        "*División de Tecnologías para la Integración Ciber-Humana*\n",
        "\n",
        "*Ingeniería Biomédica*\n",
        "\n",
        "<br>\n",
        "\n",
        "*Mtra. Sofía Alejandra Aguilar Valdez*\n",
        "\n",
        "2 de septiembre de 2022"
      ],
      "metadata": {
        "id": "nVx-kou4pjFk"
      }
    },
    {
      "cell_type": "markdown",
      "source": [
        "## **Información del equipo**\n",
        "\n",
        "**```NOMBRES:```**\n",
        "\n",
        "*   Espino Rojas Francisco Julian\n",
        "*   Manrique Torres Jafet Daniel\n",
        "*   Sanchez Rodríguez Christopher William \n",
        "\n",
        "\n",
        "**```CÓDIGOS:```**\n",
        "\n",
        "*   221349453 \n",
        "*   \n",
        "*   \n",
        "\n",
        "\n",
        "\n",
        "\n",
        "\n",
        "\n",
        "\n",
        "```LINK REPOSITORIO:```\n",
        "\n"
      ],
      "metadata": {
        "id": "dQNzG9Wm4ZQJ"
      }
    },
    {
      "cell_type": "markdown",
      "source": [
        "## **Contenido**\n",
        "\n",
        "\n",
        "\n",
        "1.   Resumen\n",
        "2.   Marco teórico\n",
        "3.   Objetivos\n",
        "4.   Materiales y métodos\n",
        "5.   Resultados\n",
        "6.   Discusión\n",
        "7.   Conclusiones\n",
        "8.   Referencias\n",
        "\n"
      ],
      "metadata": {
        "id": "QQ_tQMMJpude"
      }
    },
    {
      "cell_type": "markdown",
      "source": [
        "# **1. Resumen**\n",
        "(100-300 palabras)"
      ],
      "metadata": {
        "id": "anvzyOk06GH5"
      }
    },
    {
      "cell_type": "markdown",
      "source": [
        "# **2. Marco teórico**\n",
        "\n",
        "**Red Neuronal Multicapa (Perceptrón Multicapa):**\n",
        "\n",
        "Históricamente estas redes eran primeramente perceptrones, pero ahora, estas redes están constituidas por redes sigmoides o por otro tipo de neuronas con otro tipo de función de activación (por ejemplo, ReLu).\n",
        "\n",
        "Estas redes están conformadas por una capa de neuronas de entrada que representan los valores de entrada; en seguida, una o varias capas ocultas que están conectadas todas con cada una de las neuronas de la capa anterior; y por último, una capa de salida de una o varias neuronas que predicen el resultado.\n",
        "\n",
        "\n",
        "**Modelo de activación (ReLu)**\n",
        "\n",
        "El modelo de activación es uan parte fundamental de las redes neuronales ya que le permiten aprender de manera más eficiente. \n",
        "\n",
        "La función ReLu tiene una función de activación como la siguiente:\n",
        "![ReLU.png](data:image/png;base64,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)\n",
        "\n",
        "Ofreciendo como ventajas:\n",
        "\n",
        "*   Mejor propagación de gradiente.\n",
        "*   Más rápida de calcular que sigmoide.\n",
        "*   Cálculo eficiente: comparación, suma y multiplicación.\n",
        "*   Comportamiento lineal.\n",
        "\n",
        "**Overfitting**\n",
        "\n",
        "Es un fenómeno en el que un algoritmo predictivo presenta baja tasa de acierto en sus resultados. Existen 3 posibles causas:\n",
        "\n",
        "1.   Los datos no representan acertadamente la realidad de lo que deberá predecir.\n",
        "2.   Variables irrelevantes.\n",
        "3.   Se han sobrepasado el número de épocas.\n",
        "\n",
        "**Underfitting**\n",
        "\n",
        "Se da cuando el modelo de aprendizaje presenta resultados deficientes, ya sea porque el modelo es muy simple o insufiente para capturar particularidades de los datos. Se presenta alta parciabilidad (bias).\n",
        "\n",
        "**Librerías**\n",
        "\n",
        "--- \n",
        "\n",
        "**Pandas:** Librería basada en la librería NumPy y su función es el manejo de datos y análisis de estructuras de datos. Permite acceder a los datos mediante nombres o índices y escribir y leer ficheros de tipo Excel, así como realizar operaciones eficientes entre datos. Dispone de tres estructuras de datos diferentes: \n",
        "\n",
        "* Series. Estructura de una dimensión.\n",
        "* DataFrame: Estructura de dos dimensiones (tablas).\n",
        "* Panel: Estructura de tres dimensiones (cubos).\n",
        "\n",
        "---\n",
        "\n",
        "**Numpy:** \n",
        "\n",
        "\n",
        "\n",
        "---\n",
        "\n",
        "Matplotlib:\n",
        "\n",
        "---\n",
        "\n",
        "Torch\n",
        "\n",
        "---\n",
        "\n",
        "\n",
        "\n",
        "\n",
        "**Función de costo**\n",
        "\n",
        "\n",
        "\n",
        "\n",
        "**Epoch**\n",
        "\n",
        "\n",
        "\n",
        "\n",
        "**Procesamiento por lotes (Batch processing)** \n",
        "\n",
        "Procesamiento que se realiza sin la necesidad de alguna interacción del usaurio (no supervisado). Este tipo de procesamiento es ideal cuando se manejan procesos repetitivos sobre una gran cantidad de datos, además de que reducen la probabilidad de error a casi cero.\n",
        "\n",
        "**Tensores**\n",
        "\n",
        "Estructuras de datos que almacenan y manipulan datos de un único tipo de datos. Permiten representar vectores y matrices de cualquier dimensión. Pueden utilizarse con la ayuda de la librería torch.Tensor."
      ],
      "metadata": {
        "id": "E8r4C9H26UTK"
      }
    },
    {
      "cell_type": "markdown",
      "source": [],
      "metadata": {
        "id": "2iUFhK4cTQLS"
      }
    },
    {
      "cell_type": "markdown",
      "source": [
        "# **3. Objetivos**\n",
        "**Objetivo general:**\n",
        "\n",
        "Generar un modelo de predicción para determinar la probabilidad de que llueva bajo determinadas condiciones climáticas.\n",
        "\n",
        "**Objetivos específicos:**\n",
        "\n",
        "* Utilizar un modelo de Deep learning para predecir en base al set de datos establecido.\n",
        "* Comparar trabajos anteriores con el modelo actual.\n",
        "* Establecer el uso y estudio de distintas librerias en python para nuestro modelo de aprendizaje.\n",
        "* Medir el coste del model.\n",
        "* Diseñar el modelo evitando overfiting y underfiting."
      ],
      "metadata": {
        "id": "Tcx3QvQN6hWe"
      }
    },
    {
      "cell_type": "markdown",
      "source": [
        "# **4. Materiales y métodos**\n",
        "\n",
        "## *Materiales*\n",
        "\n",
        "Describir este conjunto de datos [[1]](https://www.kaggle.com/code/fatmakursun/rain-forecasting-with-artificial-neural-network/data).\n",
        "\n",
        "## *Métodos*\n",
        "\n",
        "1. Esquema de metodología\n",
        "2. Descripción de los métodos y su implementación en código en forma de narrativa."
      ],
      "metadata": {
        "id": "4rX1w4ZD6mPj"
      }
    },
    {
      "cell_type": "markdown",
      "source": [
        "# **5. Resultados**\n",
        "(300-800 palabras, incluir mínimo 2 figuras)."
      ],
      "metadata": {
        "id": "6s3y9-yUSCL9"
      }
    },
    {
      "cell_type": "markdown",
      "source": [
        "# **6. Discusión**\n",
        "Underfitting, overfitting, o no y el porqué\n",
        "Comparación de su metodología con literatura asociada"
      ],
      "metadata": {
        "id": "AEt8aII8SPu6"
      }
    },
    {
      "cell_type": "markdown",
      "source": [
        "# **7. Conclusiones**\n",
        "(100-300 palabras)."
      ],
      "metadata": {
        "id": "8Gb2ac0VSryX"
      }
    },
    {
      "cell_type": "markdown",
      "source": [
        "# **8. Referencias**\n",
        "\n",
        "[1] Pb, V. (2020, February 18). Perceptron. Kaggle. Retrieved June 1, 2022, from https://www.kaggle.com/code/prashfio/perceptron/notebook"
      ],
      "metadata": {
        "id": "cxRqAiW5sG_m"
      }
    }
  ]
}